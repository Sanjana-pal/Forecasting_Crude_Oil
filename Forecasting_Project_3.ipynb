{
 "cells": [
  {
   "cell_type": "code",
   "execution_count": null,
   "id": "877fe490",
   "metadata": {},
   "outputs": [],
   "source": []
  },
  {
   "cell_type": "code",
   "execution_count": 1,
   "id": "3dedc3bc",
   "metadata": {},
   "outputs": [],
   "source": [
    "import pandas as pd\n",
    "import numpy as np \n",
    "import matplotlib.pyplot as plt\n",
    "import plotly.express as pe\n",
    "import seaborn as sns\n",
    "from statsmodels.tsa.seasonal import seasonal_decompose # for time series decomposition"
   ]
  },
  {
   "cell_type": "code",
   "execution_count": 2,
   "id": "910e982e",
   "metadata": {},
   "outputs": [
    {
     "data": {
      "text/html": [
       "<div>\n",
       "<style scoped>\n",
       "    .dataframe tbody tr th:only-of-type {\n",
       "        vertical-align: middle;\n",
       "    }\n",
       "\n",
       "    .dataframe tbody tr th {\n",
       "        vertical-align: top;\n",
       "    }\n",
       "\n",
       "    .dataframe thead th {\n",
       "        text-align: right;\n",
       "    }\n",
       "</style>\n",
       "<table border=\"1\" class=\"dataframe\">\n",
       "  <thead>\n",
       "    <tr style=\"text-align: right;\">\n",
       "      <th></th>\n",
       "      <th>Date</th>\n",
       "      <th>Closing Value</th>\n",
       "    </tr>\n",
       "  </thead>\n",
       "  <tbody>\n",
       "    <tr>\n",
       "      <th>0</th>\n",
       "      <td>1986-01-02</td>\n",
       "      <td>25.56</td>\n",
       "    </tr>\n",
       "    <tr>\n",
       "      <th>1</th>\n",
       "      <td>1986-01-03</td>\n",
       "      <td>26.00</td>\n",
       "    </tr>\n",
       "    <tr>\n",
       "      <th>2</th>\n",
       "      <td>1986-01-06</td>\n",
       "      <td>26.53</td>\n",
       "    </tr>\n",
       "    <tr>\n",
       "      <th>3</th>\n",
       "      <td>1986-01-07</td>\n",
       "      <td>25.85</td>\n",
       "    </tr>\n",
       "    <tr>\n",
       "      <th>4</th>\n",
       "      <td>1986-01-08</td>\n",
       "      <td>25.87</td>\n",
       "    </tr>\n",
       "    <tr>\n",
       "      <th>...</th>\n",
       "      <td>...</td>\n",
       "      <td>...</td>\n",
       "    </tr>\n",
       "    <tr>\n",
       "      <th>9535</th>\n",
       "      <td>2023-09-12</td>\n",
       "      <td>93.58</td>\n",
       "    </tr>\n",
       "    <tr>\n",
       "      <th>9536</th>\n",
       "      <td>2023-09-13</td>\n",
       "      <td>93.04</td>\n",
       "    </tr>\n",
       "    <tr>\n",
       "      <th>9537</th>\n",
       "      <td>2023-09-14</td>\n",
       "      <td>95.20</td>\n",
       "    </tr>\n",
       "    <tr>\n",
       "      <th>9538</th>\n",
       "      <td>2023-09-15</td>\n",
       "      <td>95.55</td>\n",
       "    </tr>\n",
       "    <tr>\n",
       "      <th>9539</th>\n",
       "      <td>2023-09-18</td>\n",
       "      <td>95.95</td>\n",
       "    </tr>\n",
       "  </tbody>\n",
       "</table>\n",
       "<p>9540 rows × 2 columns</p>\n",
       "</div>"
      ],
      "text/plain": [
       "           Date  Closing Value\n",
       "0    1986-01-02          25.56\n",
       "1    1986-01-03          26.00\n",
       "2    1986-01-06          26.53\n",
       "3    1986-01-07          25.85\n",
       "4    1986-01-08          25.87\n",
       "...         ...            ...\n",
       "9535 2023-09-12          93.58\n",
       "9536 2023-09-13          93.04\n",
       "9537 2023-09-14          95.20\n",
       "9538 2023-09-15          95.55\n",
       "9539 2023-09-18          95.95\n",
       "\n",
       "[9540 rows x 2 columns]"
      ]
     },
     "execution_count": 2,
     "metadata": {},
     "output_type": "execute_result"
    }
   ],
   "source": [
    "df = pd.read_excel(\"Crude Oil Prices Daily.xlsx\")\n",
    "df"
   ]
  },
  {
   "cell_type": "code",
   "execution_count": 3,
   "id": "ef89e54e",
   "metadata": {},
   "outputs": [
    {
     "data": {
      "text/html": [
       "<div>\n",
       "<style scoped>\n",
       "    .dataframe tbody tr th:only-of-type {\n",
       "        vertical-align: middle;\n",
       "    }\n",
       "\n",
       "    .dataframe tbody tr th {\n",
       "        vertical-align: top;\n",
       "    }\n",
       "\n",
       "    .dataframe thead th {\n",
       "        text-align: right;\n",
       "    }\n",
       "</style>\n",
       "<table border=\"1\" class=\"dataframe\">\n",
       "  <thead>\n",
       "    <tr style=\"text-align: right;\">\n",
       "      <th></th>\n",
       "      <th>Date</th>\n",
       "      <th>Closing Value</th>\n",
       "      <th>month</th>\n",
       "      <th>year</th>\n",
       "    </tr>\n",
       "  </thead>\n",
       "  <tbody>\n",
       "    <tr>\n",
       "      <th>0</th>\n",
       "      <td>1986-01-02</td>\n",
       "      <td>25.56</td>\n",
       "      <td>Jan</td>\n",
       "      <td>1986</td>\n",
       "    </tr>\n",
       "    <tr>\n",
       "      <th>1</th>\n",
       "      <td>1986-01-03</td>\n",
       "      <td>26.00</td>\n",
       "      <td>Jan</td>\n",
       "      <td>1986</td>\n",
       "    </tr>\n",
       "    <tr>\n",
       "      <th>2</th>\n",
       "      <td>1986-01-06</td>\n",
       "      <td>26.53</td>\n",
       "      <td>Jan</td>\n",
       "      <td>1986</td>\n",
       "    </tr>\n",
       "    <tr>\n",
       "      <th>3</th>\n",
       "      <td>1986-01-07</td>\n",
       "      <td>25.85</td>\n",
       "      <td>Jan</td>\n",
       "      <td>1986</td>\n",
       "    </tr>\n",
       "    <tr>\n",
       "      <th>4</th>\n",
       "      <td>1986-01-08</td>\n",
       "      <td>25.87</td>\n",
       "      <td>Jan</td>\n",
       "      <td>1986</td>\n",
       "    </tr>\n",
       "    <tr>\n",
       "      <th>5</th>\n",
       "      <td>1986-01-09</td>\n",
       "      <td>26.03</td>\n",
       "      <td>Jan</td>\n",
       "      <td>1986</td>\n",
       "    </tr>\n",
       "    <tr>\n",
       "      <th>6</th>\n",
       "      <td>1986-01-10</td>\n",
       "      <td>25.65</td>\n",
       "      <td>Jan</td>\n",
       "      <td>1986</td>\n",
       "    </tr>\n",
       "    <tr>\n",
       "      <th>7</th>\n",
       "      <td>1986-01-13</td>\n",
       "      <td>25.08</td>\n",
       "      <td>Jan</td>\n",
       "      <td>1986</td>\n",
       "    </tr>\n",
       "    <tr>\n",
       "      <th>8</th>\n",
       "      <td>1986-01-14</td>\n",
       "      <td>24.97</td>\n",
       "      <td>Jan</td>\n",
       "      <td>1986</td>\n",
       "    </tr>\n",
       "    <tr>\n",
       "      <th>9</th>\n",
       "      <td>1986-01-15</td>\n",
       "      <td>25.18</td>\n",
       "      <td>Jan</td>\n",
       "      <td>1986</td>\n",
       "    </tr>\n",
       "  </tbody>\n",
       "</table>\n",
       "</div>"
      ],
      "text/plain": [
       "        Date  Closing Value month  year\n",
       "0 1986-01-02          25.56   Jan  1986\n",
       "1 1986-01-03          26.00   Jan  1986\n",
       "2 1986-01-06          26.53   Jan  1986\n",
       "3 1986-01-07          25.85   Jan  1986\n",
       "4 1986-01-08          25.87   Jan  1986\n",
       "5 1986-01-09          26.03   Jan  1986\n",
       "6 1986-01-10          25.65   Jan  1986\n",
       "7 1986-01-13          25.08   Jan  1986\n",
       "8 1986-01-14          24.97   Jan  1986\n",
       "9 1986-01-15          25.18   Jan  1986"
      ]
     },
     "execution_count": 3,
     "metadata": {},
     "output_type": "execute_result"
    }
   ],
   "source": [
    "#Separating Month and Year into Separate Column for Visualization for meaningful insight of the data\n",
    "df[\"Date\"]  = pd.to_datetime(df.Date, format=\"%b-%y\")\n",
    "df[\"month\"] = df.Date.dt.strftime(\"%b\") # month extraction\n",
    "df[\"year\"]  = df.Date.dt.strftime(\"%Y\") # year extraction\n",
    "df.head(10)"
   ]
  },
  {
   "cell_type": "code",
   "execution_count": 4,
   "id": "30601e90",
   "metadata": {},
   "outputs": [
    {
     "data": {
      "text/html": [
       "<div>\n",
       "<style scoped>\n",
       "    .dataframe tbody tr th:only-of-type {\n",
       "        vertical-align: middle;\n",
       "    }\n",
       "\n",
       "    .dataframe tbody tr th {\n",
       "        vertical-align: top;\n",
       "    }\n",
       "\n",
       "    .dataframe thead th {\n",
       "        text-align: right;\n",
       "    }\n",
       "</style>\n",
       "<table border=\"1\" class=\"dataframe\">\n",
       "  <thead>\n",
       "    <tr style=\"text-align: right;\">\n",
       "      <th></th>\n",
       "      <th>Closing Value</th>\n",
       "    </tr>\n",
       "    <tr>\n",
       "      <th>Date</th>\n",
       "      <th></th>\n",
       "    </tr>\n",
       "  </thead>\n",
       "  <tbody>\n",
       "    <tr>\n",
       "      <th>1986-01-02</th>\n",
       "      <td>25.56</td>\n",
       "    </tr>\n",
       "    <tr>\n",
       "      <th>1986-01-03</th>\n",
       "      <td>26.00</td>\n",
       "    </tr>\n",
       "    <tr>\n",
       "      <th>1986-01-06</th>\n",
       "      <td>26.53</td>\n",
       "    </tr>\n",
       "    <tr>\n",
       "      <th>1986-01-07</th>\n",
       "      <td>25.85</td>\n",
       "    </tr>\n",
       "    <tr>\n",
       "      <th>1986-01-08</th>\n",
       "      <td>25.87</td>\n",
       "    </tr>\n",
       "    <tr>\n",
       "      <th>...</th>\n",
       "      <td>...</td>\n",
       "    </tr>\n",
       "    <tr>\n",
       "      <th>2023-09-12</th>\n",
       "      <td>93.58</td>\n",
       "    </tr>\n",
       "    <tr>\n",
       "      <th>2023-09-13</th>\n",
       "      <td>93.04</td>\n",
       "    </tr>\n",
       "    <tr>\n",
       "      <th>2023-09-14</th>\n",
       "      <td>95.20</td>\n",
       "    </tr>\n",
       "    <tr>\n",
       "      <th>2023-09-15</th>\n",
       "      <td>95.55</td>\n",
       "    </tr>\n",
       "    <tr>\n",
       "      <th>2023-09-18</th>\n",
       "      <td>95.95</td>\n",
       "    </tr>\n",
       "  </tbody>\n",
       "</table>\n",
       "<p>9540 rows × 1 columns</p>\n",
       "</div>"
      ],
      "text/plain": [
       "            Closing Value\n",
       "Date                     \n",
       "1986-01-02          25.56\n",
       "1986-01-03          26.00\n",
       "1986-01-06          26.53\n",
       "1986-01-07          25.85\n",
       "1986-01-08          25.87\n",
       "...                   ...\n",
       "2023-09-12          93.58\n",
       "2023-09-13          93.04\n",
       "2023-09-14          95.20\n",
       "2023-09-15          95.55\n",
       "2023-09-18          95.95\n",
       "\n",
       "[9540 rows x 1 columns]"
      ]
     },
     "execution_count": 4,
     "metadata": {},
     "output_type": "execute_result"
    }
   ],
   "source": [
    "df1 = pd.read_excel(\"Crude Oil Prices Daily.xlsx\",index_col=0,parse_dates=True)\n",
    "df1"
   ]
  },
  {
   "cell_type": "markdown",
   "id": "545d2de4",
   "metadata": {},
   "source": [
    "- convert Date column into index and parse_Date=True ,it means it will consider as data"
   ]
  },
  {
   "cell_type": "markdown",
   "id": "772d74cb",
   "metadata": {},
   "source": [
    "# EDA"
   ]
  },
  {
   "cell_type": "code",
   "execution_count": 5,
   "id": "2447f5e6",
   "metadata": {},
   "outputs": [
    {
     "name": "stdout",
     "output_type": "stream",
     "text": [
      "<class 'pandas.core.frame.DataFrame'>\n",
      "DatetimeIndex: 9540 entries, 1986-01-02 to 2023-09-18\n",
      "Data columns (total 1 columns):\n",
      " #   Column         Non-Null Count  Dtype  \n",
      "---  ------         --------------  -----  \n",
      " 0   Closing Value  9534 non-null   float64\n",
      "dtypes: float64(1)\n",
      "memory usage: 149.1 KB\n"
     ]
    }
   ],
   "source": [
    "df1.info()"
   ]
  },
  {
   "cell_type": "code",
   "execution_count": 6,
   "id": "0583024c",
   "metadata": {},
   "outputs": [
    {
     "data": {
      "text/plain": [
       "Closing Value    6\n",
       "dtype: int64"
      ]
     },
     "execution_count": 6,
     "metadata": {},
     "output_type": "execute_result"
    }
   ],
   "source": [
    "df1.isnull().sum()"
   ]
  },
  {
   "cell_type": "code",
   "execution_count": 7,
   "id": "0df11a5a",
   "metadata": {},
   "outputs": [
    {
     "name": "stdout",
     "output_type": "stream",
     "text": [
      "           Date  Closing Value month  year\n",
      "0    1986-01-02          25.56   Jan  1986\n",
      "1    1986-01-03          26.00   Jan  1986\n",
      "2    1986-01-06          26.53   Jan  1986\n",
      "3    1986-01-07          25.85   Jan  1986\n",
      "4    1986-01-08          25.87   Jan  1986\n",
      "...         ...            ...   ...   ...\n",
      "9535 2023-09-12          93.58   Sep  2023\n",
      "9536 2023-09-13          93.04   Sep  2023\n",
      "9537 2023-09-14          95.20   Sep  2023\n",
      "9538 2023-09-15          95.55   Sep  2023\n",
      "9539 2023-09-18          95.95   Sep  2023\n",
      "\n",
      "[9540 rows x 4 columns]\n"
     ]
    }
   ],
   "source": [
    "# to deal with missing values we can used interpolation technique i.e upsampling.\n",
    "df1['Closing Value'].interpolate(method='linear', inplace=True)\n",
    "df1.reset_index(drop=True, inplace=True)\n",
    "print(df)\n"
   ]
  },
  {
   "cell_type": "code",
   "execution_count": 8,
   "id": "91bb4e12",
   "metadata": {},
   "outputs": [
    {
     "data": {
      "text/plain": [
       "Closing Value    0\n",
       "dtype: int64"
      ]
     },
     "execution_count": 8,
     "metadata": {},
     "output_type": "execute_result"
    }
   ],
   "source": [
    "df1.isna().sum()"
   ]
  },
  {
   "cell_type": "code",
   "execution_count": 9,
   "id": "f3d9c466",
   "metadata": {},
   "outputs": [
    {
     "data": {
      "text/html": [
       "<div>\n",
       "<style scoped>\n",
       "    .dataframe tbody tr th:only-of-type {\n",
       "        vertical-align: middle;\n",
       "    }\n",
       "\n",
       "    .dataframe tbody tr th {\n",
       "        vertical-align: top;\n",
       "    }\n",
       "\n",
       "    .dataframe thead th {\n",
       "        text-align: right;\n",
       "    }\n",
       "</style>\n",
       "<table border=\"1\" class=\"dataframe\">\n",
       "  <thead>\n",
       "    <tr style=\"text-align: right;\">\n",
       "      <th></th>\n",
       "      <th>Closing Value</th>\n",
       "    </tr>\n",
       "  </thead>\n",
       "  <tbody>\n",
       "    <tr>\n",
       "      <th>count</th>\n",
       "      <td>9540.000000</td>\n",
       "    </tr>\n",
       "    <tr>\n",
       "      <th>mean</th>\n",
       "      <td>47.337807</td>\n",
       "    </tr>\n",
       "    <tr>\n",
       "      <th>std</th>\n",
       "      <td>30.149545</td>\n",
       "    </tr>\n",
       "    <tr>\n",
       "      <th>min</th>\n",
       "      <td>9.120000</td>\n",
       "    </tr>\n",
       "    <tr>\n",
       "      <th>25%</th>\n",
       "      <td>20.080000</td>\n",
       "    </tr>\n",
       "    <tr>\n",
       "      <th>50%</th>\n",
       "      <td>37.785000</td>\n",
       "    </tr>\n",
       "    <tr>\n",
       "      <th>75%</th>\n",
       "      <td>70.900000</td>\n",
       "    </tr>\n",
       "    <tr>\n",
       "      <th>max</th>\n",
       "      <td>145.310000</td>\n",
       "    </tr>\n",
       "  </tbody>\n",
       "</table>\n",
       "</div>"
      ],
      "text/plain": [
       "       Closing Value\n",
       "count    9540.000000\n",
       "mean       47.337807\n",
       "std        30.149545\n",
       "min         9.120000\n",
       "25%        20.080000\n",
       "50%        37.785000\n",
       "75%        70.900000\n",
       "max       145.310000"
      ]
     },
     "execution_count": 9,
     "metadata": {},
     "output_type": "execute_result"
    }
   ],
   "source": [
    "df1.describe()"
   ]
  },
  {
   "cell_type": "markdown",
   "id": "d9200f0d",
   "metadata": {},
   "source": [
    "- we can observe,data is right skewed"
   ]
  },
  {
   "cell_type": "code",
   "execution_count": 10,
   "id": "ab1c544f",
   "metadata": {},
   "outputs": [],
   "source": [
    "# we have data from 1998 to 2023, "
   ]
  },
  {
   "cell_type": "code",
   "execution_count": 11,
   "id": "ae0afe7c",
   "metadata": {},
   "outputs": [
    {
     "data": {
      "text/plain": [
       "20.38     13\n",
       "18.63     13\n",
       "18.69     12\n",
       "20.28     12\n",
       "19.84     10\n",
       "          ..\n",
       "139.69     1\n",
       "139.96     1\n",
       "141.06     1\n",
       "143.74     1\n",
       "95.20      1\n",
       "Name: Closing Value, Length: 5410, dtype: int64"
      ]
     },
     "execution_count": 11,
     "metadata": {},
     "output_type": "execute_result"
    }
   ],
   "source": [
    "df1['Closing Value'].value_counts()"
   ]
  },
  {
   "cell_type": "code",
   "execution_count": null,
   "id": "f7c2152a",
   "metadata": {},
   "outputs": [],
   "source": []
  },
  {
   "cell_type": "code",
   "execution_count": 12,
   "id": "98bf9ec9",
   "metadata": {},
   "outputs": [
    {
     "data": {
      "text/plain": [
       "<AxesSubplot:>"
      ]
     },
     "execution_count": 12,
     "metadata": {},
     "output_type": "execute_result"
    },
    {
     "data": {
      "image/png": "[encoded data removed]",
      "text/plain": [
       "<Figure size 640x480 with 1 Axes>"
      ]
     },
     "metadata": {},
     "output_type": "display_data"
    }
   ],
   "source": [
    "df1['Closing Value'].plot()"
   ]
  },
  {
   "cell_type": "markdown",
   "id": "16a1d3e9",
   "metadata": {},
   "source": [
    "- we can observe in diagram we have data from 1988 to 2023 , data does'nt have any seasonality ,but data have exponential trend. we can say our data is non-stationary"
   ]
  },
  {
   "cell_type": "code",
   "execution_count": 13,
   "id": "83730621",
   "metadata": {},
   "outputs": [
    {
     "data": {
      "image/png": "[encoded data removed]",
      "text/plain": [
       "<Figure size 640x480 with 4 Axes>"
      ]
     },
     "metadata": {},
     "output_type": "display_data"
    }
   ],
   "source": [
    "data = seasonal_decompose(df1['Closing Value'],period=12)\n",
    "data.plot()\n",
    "plt.show()"
   ]
  },
  {
   "cell_type": "code",
   "execution_count": 14,
   "id": "1125f17a",
   "metadata": {},
   "outputs": [
    {
     "data": {
      "text/plain": [
       "<AxesSubplot:xlabel='month', ylabel='Closing Value'>"
      ]
     },
     "execution_count": 14,
     "metadata": {},
     "output_type": "execute_result"
    },
    {
     "data": {
      "image/png": "[encoded data removed]",
      "text/plain": [
       "<Figure size 640x480 with 1 Axes>"
      ]
     },
     "metadata": {},
     "output_type": "display_data"
    }
   ],
   "source": [
    "sns.boxplot(x ='month',y='Closing Value',data=df)"
   ]
  },
  {
   "cell_type": "code",
   "execution_count": 15,
   "id": "8d8bcf8c",
   "metadata": {},
   "outputs": [
    {
     "data": {
      "text/plain": [
       "0.25392582972832944"
      ]
     },
     "execution_count": 15,
     "metadata": {},
     "output_type": "execute_result"
    }
   ],
   "source": [
    "# To check Data is stationary or not we can  used Adfuller test\n",
    "from statsmodels.tsa.stattools import adfuller\n",
    "adfuller(df1['Closing Value'])[1]"
   ]
  },
  {
   "cell_type": "markdown",
   "id": "2a58dfc5",
   "metadata": {},
   "source": [
    "Null hypothesis: Data is Non stationary\n",
    "\n",
    "Alternate Hypothesis: Data is Stationary\n",
    "\n",
    "If p< 0.05 ; Data is stationary\n",
    "\n",
    "if p>0.05; Data is not stationary\n",
    "\n",
    "According the p-value, the dataset is not stationary as the p is greater value is  than alpha value."
   ]
  },
  {
   "cell_type": "code",
   "execution_count": 16,
   "id": "59e3e8d7",
   "metadata": {},
   "outputs": [],
   "source": [
    "# to convert  non-stationary data into a stationary we have to perform differencing\n",
    "df1['first_difference'] = df1['Closing Value'].diff()"
   ]
  },
  {
   "cell_type": "code",
   "execution_count": 17,
   "id": "6c7b6f54",
   "metadata": {},
   "outputs": [
    {
     "data": {
      "text/plain": [
       "<AxesSubplot:>"
      ]
     },
     "execution_count": 17,
     "metadata": {},
     "output_type": "execute_result"
    },
    {
     "data": {
      "image/png": "[encoded data removed]",
      "text/plain": [
       "<Figure size 640x480 with 1 Axes>"
      ]
     },
     "metadata": {},
     "output_type": "display_data"
    }
   ],
   "source": [
    "df1['first_difference'].plot()"
   ]
  },
  {
   "cell_type": "code",
   "execution_count": 18,
   "id": "8242c3c2",
   "metadata": {},
   "outputs": [
    {
     "data": {
      "text/plain": [
       "<AxesSubplot:xlabel='first_difference', ylabel='Density'>"
      ]
     },
     "execution_count": 18,
     "metadata": {},
     "output_type": "execute_result"
    },
    {
     "data": {
      "image/png": "[encoded data removed]",
      "text/plain": [
       "<Figure size 640x480 with 1 Axes>"
      ]
     },
     "metadata": {},
     "output_type": "display_data"
    }
   ],
   "source": [
    "sns.kdeplot(df1['first_difference'])"
   ]
  },
  {
   "cell_type": "markdown",
   "id": "83278be2",
   "metadata": {},
   "source": [
    "- After differencing we can saw that our data is  normally distributed."
   ]
  },
  {
   "cell_type": "code",
   "execution_count": 19,
   "id": "81073de2",
   "metadata": {},
   "outputs": [
    {
     "name": "stderr",
     "output_type": "stream",
     "text": [
      "C:\\Users\\sanjana pal\\anaconda\\lib\\site-packages\\statsmodels\\graphics\\tsaplots.py:348: FutureWarning: The default method 'yw' can produce PACF values outside of the [-1,1] interval. After 0.13, the default will change tounadjusted Yule-Walker ('ywm'). You can use this method now by setting method='ywm'.\n",
      "  warnings.warn(\n"
     ]
    },
    {
     "data": {
      "text/plain": [
       "(<Figure size 640x480 with 1 Axes>,)"
      ]
     },
     "execution_count": 19,
     "metadata": {},
     "output_type": "execute_result"
    },
    {
     "data": {
      "image/png": "[encoded data removed]",
      "text/plain": [
       "<Figure size 640x480 with 1 Axes>"
      ]
     },
     "metadata": {},
     "output_type": "display_data"
    }
   ],
   "source": [
    "from statsmodels.graphics.tsaplots import plot_acf,plot_pacf\n",
    "plot_pacf(df1['Closing Value'],lags=50),\n",
    "#plt.show()\n"
   ]
  },
  {
   "cell_type": "markdown",
   "id": "cada6b34",
   "metadata": {},
   "source": [
    "- Pacf only shows which lag variable is directly afftecting the current variable"
   ]
  },
  {
   "cell_type": "code",
   "execution_count": 20,
   "id": "6e8e5993",
   "metadata": {},
   "outputs": [
    {
     "data": {
      "text/plain": [
       "array([[<AxesSubplot:title={'center':'Closing Value'}>,\n",
       "        <AxesSubplot:title={'center':'first_difference'}>]], dtype=object)"
      ]
     },
     "execution_count": 20,
     "metadata": {},
     "output_type": "execute_result"
    },
    {
     "data": {
      "image/png": "[encoded data removed]",
      "text/plain": [
       "<Figure size 640x480 with 2 Axes>"
      ]
     },
     "metadata": {},
     "output_type": "display_data"
    }
   ],
   "source": [
    "df1.hist()"
   ]
  },
  {
   "cell_type": "code",
   "execution_count": 21,
   "id": "1b3d057f",
   "metadata": {},
   "outputs": [
    {
     "data": {
      "image/png": "[encoded data removed]",
      "text/plain": [
       "<Figure size 640x480 with 1 Axes>"
      ]
     },
     "metadata": {},
     "output_type": "display_data"
    }
   ],
   "source": [
    "from pandas.plotting import lag_plot\n",
    "lag_plot(df1['Closing Value'])\n",
    "plt.show()"
   ]
  },
  {
   "cell_type": "code",
   "execution_count": 22,
   "id": "0f6f613c",
   "metadata": {},
   "outputs": [
    {
     "data": {
      "text/plain": [
       "(<Figure size 640x480 with 1 Axes>,)"
      ]
     },
     "execution_count": 22,
     "metadata": {},
     "output_type": "execute_result"
    },
    {
     "data": {
      "image/png": "[encoded data removed]",
      "text/plain": [
       "<Figure size 640x480 with 1 Axes>"
      ]
     },
     "metadata": {},
     "output_type": "display_data"
    }
   ],
   "source": [
    "plot_acf(df1['Closing Value'],lags=50),"
   ]
  },
  {
   "cell_type": "markdown",
   "id": "4d519901",
   "metadata": {},
   "source": [
    "# MODEL BUILDING"
   ]
  },
  {
   "cell_type": "code",
   "execution_count": 23,
   "id": "51eb6ae4",
   "metadata": {
    "scrolled": true
   },
   "outputs": [],
   "source": [
    "#!pip install pmdarima"
   ]
  },
  {
   "cell_type": "code",
   "execution_count": 24,
   "id": "e4c14ef7",
   "metadata": {},
   "outputs": [],
   "source": [
    "#import library\n",
    "import numpy as np\n",
    "import pandas as pd\n",
    "import matplotlib.pyplot as plt\n",
    "from pandas.plotting import lag_plot\n",
    "import seaborn as sns\n",
    "from statsmodels.tsa.statespace.sarimax import SARIMAX\n",
    "from statsmodels.tsa.seasonal import seasonal_decompose # For time series decomposition\n",
    "from pmdarima import auto_arima\n",
    "\n",
    "%matplotlib inline"
   ]
  },
  {
   "cell_type": "code",
   "execution_count": 25,
   "id": "8f7c74b3",
   "metadata": {},
   "outputs": [],
   "source": [
    "from math import sqrt\n",
    "import plotly.express as px\n",
    "from scipy.stats import boxcox\n",
    "import plotly.graph_objects as go\n",
    "from pandas.plotting import lag_plot\n",
    "import statsmodels.formula.api as smf\n",
    "from plotly.subplots import make_subplots\n",
    "from statsmodels.tsa.holtwinters import Holt\n",
    "from statsmodels.tsa.arima.model import ARIMA\n",
    "from sklearn.metrics import mean_squared_error\n",
    "from statsmodels.tsa.stattools import adfuller\n",
    "from statsmodels.graphics.tsaplots import plot_acf\n",
    "from statsmodels.tsa.statespace.sarimax import SARIMAX\n",
    "from statsmodels.tsa.seasonal import seasonal_decompose\n",
    "from statsmodels.tsa.holtwinters import SimpleExpSmoothing\n",
    "from statsmodels.tsa.holtwinters import ExponentialSmoothing\n",
    "import warnings"
   ]
  },
  {
   "cell_type": "code",
   "execution_count": 26,
   "id": "2c2bbe6c",
   "metadata": {},
   "outputs": [],
   "source": [
    "df1.drop('Closing Value',axis=1,inplace=True)"
   ]
  },
  {
   "cell_type": "code",
   "execution_count": 27,
   "id": "449ce566",
   "metadata": {},
   "outputs": [
    {
     "data": {
      "text/plain": [
       "first_difference    True\n",
       "dtype: bool"
      ]
     },
     "execution_count": 27,
     "metadata": {},
     "output_type": "execute_result"
    }
   ],
   "source": [
    "np.isnan(df1.any()) #and gets False\n",
    "np.isfinite(df1.all()) #and gets True"
   ]
  },
  {
   "cell_type": "code",
   "execution_count": 28,
   "id": "7d0edbb3",
   "metadata": {},
   "outputs": [],
   "source": [
    "df1.dropna(inplace=True)"
   ]
  },
  {
   "cell_type": "code",
   "execution_count": 29,
   "id": "6d613e55",
   "metadata": {},
   "outputs": [],
   "source": [
    "train_data = df1.iloc[:len(df1) - 30]\n",
    "test_data = df1.iloc[len(df1) - 30:]"
   ]
  },
  {
   "cell_type": "markdown",
   "id": "597f2a4c",
   "metadata": {},
   "source": [
    "# SARIMA MODEL"
   ]
  },
  {
   "cell_type": "code",
   "execution_count": 30,
   "id": "e26809f8",
   "metadata": {},
   "outputs": [
    {
     "name": "stdout",
     "output_type": "stream",
     "text": [
      "Performing stepwise search to minimize aic\n",
      " ARIMA(2,0,2)(0,0,0)[0] intercept   : AIC=31705.956, Time=10.97 sec\n",
      " ARIMA(0,0,0)(0,0,0)[0] intercept   : AIC=31755.747, Time=0.18 sec\n",
      " ARIMA(1,0,0)(0,0,0)[0] intercept   : AIC=31753.711, Time=0.47 sec\n",
      " ARIMA(0,0,1)(0,0,0)[0] intercept   : AIC=31753.409, Time=0.68 sec\n",
      " ARIMA(0,0,0)(0,0,0)[0]             : AIC=31753.991, Time=0.11 sec\n",
      " ARIMA(1,0,2)(0,0,0)[0] intercept   : AIC=31746.609, Time=7.00 sec\n",
      " ARIMA(2,0,1)(0,0,0)[0] intercept   : AIC=31745.890, Time=2.45 sec\n",
      " ARIMA(3,0,2)(0,0,0)[0] intercept   : AIC=31706.962, Time=14.79 sec\n",
      " ARIMA(2,0,3)(0,0,0)[0] intercept   : AIC=31706.925, Time=14.92 sec\n",
      " ARIMA(1,0,1)(0,0,0)[0] intercept   : AIC=31749.311, Time=4.01 sec\n",
      " ARIMA(1,0,3)(0,0,0)[0] intercept   : AIC=31748.069, Time=4.51 sec\n",
      " ARIMA(3,0,1)(0,0,0)[0] intercept   : AIC=31747.260, Time=4.31 sec\n",
      " ARIMA(3,0,3)(0,0,0)[0] intercept   : AIC=31708.137, Time=17.11 sec\n",
      " ARIMA(2,0,2)(0,0,0)[0]             : AIC=31704.206, Time=5.09 sec\n",
      " ARIMA(1,0,2)(0,0,0)[0]             : AIC=31744.879, Time=2.37 sec\n",
      " ARIMA(2,0,1)(0,0,0)[0]             : AIC=31744.160, Time=1.21 sec\n",
      " ARIMA(3,0,2)(0,0,0)[0]             : AIC=31705.217, Time=6.74 sec\n",
      " ARIMA(2,0,3)(0,0,0)[0]             : AIC=31705.180, Time=4.94 sec\n",
      " ARIMA(1,0,1)(0,0,0)[0]             : AIC=31747.591, Time=1.04 sec\n",
      " ARIMA(1,0,3)(0,0,0)[0]             : AIC=31746.334, Time=1.85 sec\n",
      " ARIMA(3,0,1)(0,0,0)[0]             : AIC=31745.524, Time=1.79 sec\n",
      " ARIMA(3,0,3)(0,0,0)[0]             : AIC=31706.347, Time=6.71 sec\n",
      "\n",
      "Best model:  ARIMA(2,0,2)(0,0,0)[0]          \n",
      "Total fit time: 113.260 seconds\n"
     ]
    }
   ],
   "source": [
    "# Runs auto_arima function to get the parameters for the SARIMA model\n",
    "opt_model = auto_arima(train_data, maxiter=100, trace=True)"
   ]
  },
  {
   "cell_type": "code",
   "execution_count": 31,
   "id": "c88ed3d9",
   "metadata": {},
   "outputs": [
    {
     "name": "stderr",
     "output_type": "stream",
     "text": [
      "C:\\Users\\sanjana pal\\anaconda\\lib\\site-packages\\statsmodels\\tsa\\base\\tsa_model.py:471: ValueWarning: An unsupported index was provided and will be ignored when e.g. forecasting.\n",
      "  self._init_dates(dates, freq)\n",
      "C:\\Users\\sanjana pal\\anaconda\\lib\\site-packages\\statsmodels\\tsa\\base\\tsa_model.py:471: ValueWarning: An unsupported index was provided and will be ignored when e.g. forecasting.\n",
      "  self._init_dates(dates, freq)\n",
      "C:\\Users\\sanjana pal\\anaconda\\lib\\site-packages\\statsmodels\\base\\model.py:604: ConvergenceWarning: Maximum Likelihood optimization failed to converge. Check mle_retvals\n",
      "  warnings.warn(\"Maximum Likelihood optimization failed to \"\n",
      "C:\\Users\\sanjana pal\\anaconda\\lib\\site-packages\\statsmodels\\tsa\\base\\tsa_model.py:834: ValueWarning: No supported index is available. Prediction results will be given with an integer index beginning at `start`.\n",
      "  return get_prediction_index(\n"
     ]
    },
    {
     "data": {
      "image/png": "[encoded data removed]",
      "text/plain": [
       "<Figure size 640x480 with 1 Axes>"
      ]
     },
     "metadata": {},
     "output_type": "display_data"
    }
   ],
   "source": [
    "# Trains the model according to the auto_arima output -> (2,1,3)x(0,0,0,0)\n",
    "sarima_model_eval = SARIMAX(train_data, order=(2, 1, 3), seasonal_order=(0, 0, 0, 0))\n",
    "estimator_eval = sarima_model_eval.fit()\n",
    "\n",
    "# Gets forecast for evaluation\n",
    "preds = estimator_eval.forecast(len(test_data))\n",
    "\n",
    "# Plot the results\n",
    "test_data.plot(color='blue', label='Actual')\n",
    "preds.plot(color='green', label='Forecasts (30 days)')\n",
    "\n",
    "plt.title(' Crude Oil Price Forecast (SARIMA model evaluation)')\n",
    "plt.xlabel('Date')\n",
    "plt.ylabel('closing value')\n",
    "plt.legend()\n",
    "plt.show()"
   ]
  },
  {
   "cell_type": "markdown",
   "id": "e93d7e26",
   "metadata": {},
   "source": [
    "# MODEL EVALUTION"
   ]
  },
  {
   "cell_type": "code",
   "execution_count": 32,
   "id": "6c4e596c",
   "metadata": {},
   "outputs": [],
   "source": [
    "# To evaluate the models\n",
    "from sklearn.metrics import mean_squared_error, mean_absolute_error, mean_absolute_percentage_error"
   ]
  },
  {
   "cell_type": "code",
   "execution_count": 33,
   "id": "c8b1b454",
   "metadata": {},
   "outputs": [
    {
     "name": "stdout",
     "output_type": "stream",
     "text": [
      "Root Mean Square Error (RMSE): 1.098 \n",
      "Mean Absolute Error (MAE): 0.914 \n",
      "Mean Absolute Percentage Error (MAPE): 1.009\n"
     ]
    }
   ],
   "source": [
    "rmse = np.sqrt(mean_squared_error(test_data.values, preds.values))\n",
    "mae = mean_absolute_error(test_data.values, preds.values)\n",
    "mape = mean_absolute_percentage_error(test_data.values, preds.values)\n",
    "\n",
    "print('Root Mean Square Error (RMSE): {} \\nMean Absolute Error (MAE): {} \\nMean Absolute Percentage Error (MAPE): {}'. format(np.round(rmse, 3), np.round(mae, 3), np.round(mape, 3)))"
   ]
  },
  {
   "cell_type": "markdown",
   "id": "debad365",
   "metadata": {},
   "source": [
    "# Model Based approches"
   ]
  },
  {
   "cell_type": "code",
   "execution_count": 55,
   "id": "be5eb524",
   "metadata": {},
   "outputs": [
    {
     "data": {
      "text/html": [
       "<div>\n",
       "<style scoped>\n",
       "    .dataframe tbody tr th:only-of-type {\n",
       "        vertical-align: middle;\n",
       "    }\n",
       "\n",
       "    .dataframe tbody tr th {\n",
       "        vertical-align: top;\n",
       "    }\n",
       "\n",
       "    .dataframe thead th {\n",
       "        text-align: right;\n",
       "    }\n",
       "</style>\n",
       "<table border=\"1\" class=\"dataframe\">\n",
       "  <thead>\n",
       "    <tr style=\"text-align: right;\">\n",
       "      <th></th>\n",
       "      <th>Date</th>\n",
       "      <th>Closing Value</th>\n",
       "    </tr>\n",
       "  </thead>\n",
       "  <tbody>\n",
       "    <tr>\n",
       "      <th>0</th>\n",
       "      <td>1986-01-02</td>\n",
       "      <td>25.56</td>\n",
       "    </tr>\n",
       "    <tr>\n",
       "      <th>1</th>\n",
       "      <td>1986-01-03</td>\n",
       "      <td>26.00</td>\n",
       "    </tr>\n",
       "    <tr>\n",
       "      <th>2</th>\n",
       "      <td>1986-01-06</td>\n",
       "      <td>26.53</td>\n",
       "    </tr>\n",
       "    <tr>\n",
       "      <th>3</th>\n",
       "      <td>1986-01-07</td>\n",
       "      <td>25.85</td>\n",
       "    </tr>\n",
       "    <tr>\n",
       "      <th>4</th>\n",
       "      <td>1986-01-08</td>\n",
       "      <td>25.87</td>\n",
       "    </tr>\n",
       "    <tr>\n",
       "      <th>...</th>\n",
       "      <td>...</td>\n",
       "      <td>...</td>\n",
       "    </tr>\n",
       "    <tr>\n",
       "      <th>9535</th>\n",
       "      <td>2023-09-12</td>\n",
       "      <td>93.58</td>\n",
       "    </tr>\n",
       "    <tr>\n",
       "      <th>9536</th>\n",
       "      <td>2023-09-13</td>\n",
       "      <td>93.04</td>\n",
       "    </tr>\n",
       "    <tr>\n",
       "      <th>9537</th>\n",
       "      <td>2023-09-14</td>\n",
       "      <td>95.20</td>\n",
       "    </tr>\n",
       "    <tr>\n",
       "      <th>9538</th>\n",
       "      <td>2023-09-15</td>\n",
       "      <td>95.55</td>\n",
       "    </tr>\n",
       "    <tr>\n",
       "      <th>9539</th>\n",
       "      <td>2023-09-18</td>\n",
       "      <td>95.95</td>\n",
       "    </tr>\n",
       "  </tbody>\n",
       "</table>\n",
       "<p>9540 rows × 2 columns</p>\n",
       "</div>"
      ],
      "text/plain": [
       "           Date  Closing Value\n",
       "0    1986-01-02          25.56\n",
       "1    1986-01-03          26.00\n",
       "2    1986-01-06          26.53\n",
       "3    1986-01-07          25.85\n",
       "4    1986-01-08          25.87\n",
       "...         ...            ...\n",
       "9535 2023-09-12          93.58\n",
       "9536 2023-09-13          93.04\n",
       "9537 2023-09-14          95.20\n",
       "9538 2023-09-15          95.55\n",
       "9539 2023-09-18          95.95\n",
       "\n",
       "[9540 rows x 2 columns]"
      ]
     },
     "execution_count": 55,
     "metadata": {},
     "output_type": "execute_result"
    }
   ],
   "source": [
    "df2 = pd.read_excel(\"Crude Oil Prices Daily.xlsx\")\n",
    "df2"
   ]
  },
  {
   "cell_type": "code",
   "execution_count": 56,
   "id": "c0cb89ad",
   "metadata": {},
   "outputs": [
    {
     "data": {
      "text/plain": [
       "<AxesSubplot:>"
      ]
     },
     "execution_count": 56,
     "metadata": {},
     "output_type": "execute_result"
    },
    {
     "data": {
      "image/png": "[encoded data removed]",
      "text/plain": [
       "<Figure size 640x480 with 1 Axes>"
      ]
     },
     "metadata": {},
     "output_type": "display_data"
    }
   ],
   "source": [
    "df2['Closing Value'].plot()"
   ]
  },
  {
   "cell_type": "code",
   "execution_count": 60,
   "id": "72e1fb1d",
   "metadata": {},
   "outputs": [],
   "source": [
    "df2.rename(columns={'Closing Value':'closing_value'},inplace=True)"
   ]
  },
  {
   "cell_type": "code",
   "execution_count": 61,
   "id": "b93b806f",
   "metadata": {},
   "outputs": [
    {
     "data": {
      "text/plain": [
       "(9540, 2)"
      ]
     },
     "execution_count": 61,
     "metadata": {},
     "output_type": "execute_result"
    }
   ],
   "source": [
    "df2.shape"
   ]
  },
  {
   "cell_type": "code",
   "execution_count": 62,
   "id": "be3f6377",
   "metadata": {},
   "outputs": [
    {
     "data": {
      "text/html": [
       "<div>\n",
       "<style scoped>\n",
       "    .dataframe tbody tr th:only-of-type {\n",
       "        vertical-align: middle;\n",
       "    }\n",
       "\n",
       "    .dataframe tbody tr th {\n",
       "        vertical-align: top;\n",
       "    }\n",
       "\n",
       "    .dataframe thead th {\n",
       "        text-align: right;\n",
       "    }\n",
       "</style>\n",
       "<table border=\"1\" class=\"dataframe\">\n",
       "  <thead>\n",
       "    <tr style=\"text-align: right;\">\n",
       "      <th></th>\n",
       "      <th>Date</th>\n",
       "      <th>closing_value</th>\n",
       "      <th>t</th>\n",
       "    </tr>\n",
       "  </thead>\n",
       "  <tbody>\n",
       "    <tr>\n",
       "      <th>0</th>\n",
       "      <td>1986-01-02</td>\n",
       "      <td>25.56</td>\n",
       "      <td>1</td>\n",
       "    </tr>\n",
       "    <tr>\n",
       "      <th>1</th>\n",
       "      <td>1986-01-03</td>\n",
       "      <td>26.00</td>\n",
       "      <td>2</td>\n",
       "    </tr>\n",
       "    <tr>\n",
       "      <th>2</th>\n",
       "      <td>1986-01-06</td>\n",
       "      <td>26.53</td>\n",
       "      <td>3</td>\n",
       "    </tr>\n",
       "    <tr>\n",
       "      <th>3</th>\n",
       "      <td>1986-01-07</td>\n",
       "      <td>25.85</td>\n",
       "      <td>4</td>\n",
       "    </tr>\n",
       "    <tr>\n",
       "      <th>4</th>\n",
       "      <td>1986-01-08</td>\n",
       "      <td>25.87</td>\n",
       "      <td>5</td>\n",
       "    </tr>\n",
       "    <tr>\n",
       "      <th>...</th>\n",
       "      <td>...</td>\n",
       "      <td>...</td>\n",
       "      <td>...</td>\n",
       "    </tr>\n",
       "    <tr>\n",
       "      <th>9535</th>\n",
       "      <td>2023-09-12</td>\n",
       "      <td>93.58</td>\n",
       "      <td>9536</td>\n",
       "    </tr>\n",
       "    <tr>\n",
       "      <th>9536</th>\n",
       "      <td>2023-09-13</td>\n",
       "      <td>93.04</td>\n",
       "      <td>9537</td>\n",
       "    </tr>\n",
       "    <tr>\n",
       "      <th>9537</th>\n",
       "      <td>2023-09-14</td>\n",
       "      <td>95.20</td>\n",
       "      <td>9538</td>\n",
       "    </tr>\n",
       "    <tr>\n",
       "      <th>9538</th>\n",
       "      <td>2023-09-15</td>\n",
       "      <td>95.55</td>\n",
       "      <td>9539</td>\n",
       "    </tr>\n",
       "    <tr>\n",
       "      <th>9539</th>\n",
       "      <td>2023-09-18</td>\n",
       "      <td>95.95</td>\n",
       "      <td>9540</td>\n",
       "    </tr>\n",
       "  </tbody>\n",
       "</table>\n",
       "<p>9540 rows × 3 columns</p>\n",
       "</div>"
      ],
      "text/plain": [
       "           Date  closing_value     t\n",
       "0    1986-01-02          25.56     1\n",
       "1    1986-01-03          26.00     2\n",
       "2    1986-01-06          26.53     3\n",
       "3    1986-01-07          25.85     4\n",
       "4    1986-01-08          25.87     5\n",
       "...         ...            ...   ...\n",
       "9535 2023-09-12          93.58  9536\n",
       "9536 2023-09-13          93.04  9537\n",
       "9537 2023-09-14          95.20  9538\n",
       "9538 2023-09-15          95.55  9539\n",
       "9539 2023-09-18          95.95  9540\n",
       "\n",
       "[9540 rows x 3 columns]"
      ]
     },
     "execution_count": 62,
     "metadata": {},
     "output_type": "execute_result"
    }
   ],
   "source": [
    "df2['t']= range(1,9541)\n",
    "df2"
   ]
  },
  {
   "cell_type": "code",
   "execution_count": 64,
   "id": "f3240aba",
   "metadata": {},
   "outputs": [],
   "source": [
    "df2['t_square'] = df2['t']**2"
   ]
  },
  {
   "cell_type": "code",
   "execution_count": 65,
   "id": "cddd1ff5",
   "metadata": {},
   "outputs": [],
   "source": [
    "df2['log_closing_value'] = np.log(df2['closing_value'])"
   ]
  },
  {
   "cell_type": "code",
   "execution_count": 66,
   "id": "c06e3c0d",
   "metadata": {},
   "outputs": [],
   "source": [
    "#convert Date column into datetime object\n",
    "df2['Date']= pd.to_datetime(df2['Date'])"
   ]
  },
  {
   "cell_type": "code",
   "execution_count": 67,
   "id": "fd30eec3",
   "metadata": {},
   "outputs": [],
   "source": [
    "dummy_months = pd.get_dummies(df2['Date'].dt.month,prefix='Month')"
   ]
  },
  {
   "cell_type": "code",
   "execution_count": 68,
   "id": "774d9e63",
   "metadata": {},
   "outputs": [],
   "source": [
    "dummy_months = dummy_months.astype(int)"
   ]
  },
  {
   "cell_type": "code",
   "execution_count": 70,
   "id": "82b32a56",
   "metadata": {},
   "outputs": [
    {
     "data": {
      "text/html": [
       "<div>\n",
       "<style scoped>\n",
       "    .dataframe tbody tr th:only-of-type {\n",
       "        vertical-align: middle;\n",
       "    }\n",
       "\n",
       "    .dataframe tbody tr th {\n",
       "        vertical-align: top;\n",
       "    }\n",
       "\n",
       "    .dataframe thead th {\n",
       "        text-align: right;\n",
       "    }\n",
       "</style>\n",
       "<table border=\"1\" class=\"dataframe\">\n",
       "  <thead>\n",
       "    <tr style=\"text-align: right;\">\n",
       "      <th></th>\n",
       "      <th>Date</th>\n",
       "      <th>closing_value</th>\n",
       "      <th>t</th>\n",
       "      <th>t_square</th>\n",
       "      <th>log_closing_value</th>\n",
       "      <th>Month_1</th>\n",
       "      <th>Month_2</th>\n",
       "      <th>Month_3</th>\n",
       "      <th>Month_4</th>\n",
       "      <th>Month_5</th>\n",
       "      <th>...</th>\n",
       "      <th>Month_3</th>\n",
       "      <th>Month_4</th>\n",
       "      <th>Month_5</th>\n",
       "      <th>Month_6</th>\n",
       "      <th>Month_7</th>\n",
       "      <th>Month_8</th>\n",
       "      <th>Month_9</th>\n",
       "      <th>Month_10</th>\n",
       "      <th>Month_11</th>\n",
       "      <th>Month_12</th>\n",
       "    </tr>\n",
       "  </thead>\n",
       "  <tbody>\n",
       "    <tr>\n",
       "      <th>0</th>\n",
       "      <td>1986-01-02</td>\n",
       "      <td>25.56</td>\n",
       "      <td>1</td>\n",
       "      <td>1</td>\n",
       "      <td>3.241029</td>\n",
       "      <td>1</td>\n",
       "      <td>0</td>\n",
       "      <td>0</td>\n",
       "      <td>0</td>\n",
       "      <td>0</td>\n",
       "      <td>...</td>\n",
       "      <td>0</td>\n",
       "      <td>0</td>\n",
       "      <td>0</td>\n",
       "      <td>0</td>\n",
       "      <td>0</td>\n",
       "      <td>0</td>\n",
       "      <td>0</td>\n",
       "      <td>0</td>\n",
       "      <td>0</td>\n",
       "      <td>0</td>\n",
       "    </tr>\n",
       "    <tr>\n",
       "      <th>1</th>\n",
       "      <td>1986-01-03</td>\n",
       "      <td>26.00</td>\n",
       "      <td>2</td>\n",
       "      <td>4</td>\n",
       "      <td>3.258097</td>\n",
       "      <td>1</td>\n",
       "      <td>0</td>\n",
       "      <td>0</td>\n",
       "      <td>0</td>\n",
       "      <td>0</td>\n",
       "      <td>...</td>\n",
       "      <td>0</td>\n",
       "      <td>0</td>\n",
       "      <td>0</td>\n",
       "      <td>0</td>\n",
       "      <td>0</td>\n",
       "      <td>0</td>\n",
       "      <td>0</td>\n",
       "      <td>0</td>\n",
       "      <td>0</td>\n",
       "      <td>0</td>\n",
       "    </tr>\n",
       "    <tr>\n",
       "      <th>2</th>\n",
       "      <td>1986-01-06</td>\n",
       "      <td>26.53</td>\n",
       "      <td>3</td>\n",
       "      <td>9</td>\n",
       "      <td>3.278276</td>\n",
       "      <td>1</td>\n",
       "      <td>0</td>\n",
       "      <td>0</td>\n",
       "      <td>0</td>\n",
       "      <td>0</td>\n",
       "      <td>...</td>\n",
       "      <td>0</td>\n",
       "      <td>0</td>\n",
       "      <td>0</td>\n",
       "      <td>0</td>\n",
       "      <td>0</td>\n",
       "      <td>0</td>\n",
       "      <td>0</td>\n",
       "      <td>0</td>\n",
       "      <td>0</td>\n",
       "      <td>0</td>\n",
       "    </tr>\n",
       "    <tr>\n",
       "      <th>3</th>\n",
       "      <td>1986-01-07</td>\n",
       "      <td>25.85</td>\n",
       "      <td>4</td>\n",
       "      <td>16</td>\n",
       "      <td>3.252311</td>\n",
       "      <td>1</td>\n",
       "      <td>0</td>\n",
       "      <td>0</td>\n",
       "      <td>0</td>\n",
       "      <td>0</td>\n",
       "      <td>...</td>\n",
       "      <td>0</td>\n",
       "      <td>0</td>\n",
       "      <td>0</td>\n",
       "      <td>0</td>\n",
       "      <td>0</td>\n",
       "      <td>0</td>\n",
       "      <td>0</td>\n",
       "      <td>0</td>\n",
       "      <td>0</td>\n",
       "      <td>0</td>\n",
       "    </tr>\n",
       "    <tr>\n",
       "      <th>4</th>\n",
       "      <td>1986-01-08</td>\n",
       "      <td>25.87</td>\n",
       "      <td>5</td>\n",
       "      <td>25</td>\n",
       "      <td>3.253084</td>\n",
       "      <td>1</td>\n",
       "      <td>0</td>\n",
       "      <td>0</td>\n",
       "      <td>0</td>\n",
       "      <td>0</td>\n",
       "      <td>...</td>\n",
       "      <td>0</td>\n",
       "      <td>0</td>\n",
       "      <td>0</td>\n",
       "      <td>0</td>\n",
       "      <td>0</td>\n",
       "      <td>0</td>\n",
       "      <td>0</td>\n",
       "      <td>0</td>\n",
       "      <td>0</td>\n",
       "      <td>0</td>\n",
       "    </tr>\n",
       "    <tr>\n",
       "      <th>...</th>\n",
       "      <td>...</td>\n",
       "      <td>...</td>\n",
       "      <td>...</td>\n",
       "      <td>...</td>\n",
       "      <td>...</td>\n",
       "      <td>...</td>\n",
       "      <td>...</td>\n",
       "      <td>...</td>\n",
       "      <td>...</td>\n",
       "      <td>...</td>\n",
       "      <td>...</td>\n",
       "      <td>...</td>\n",
       "      <td>...</td>\n",
       "      <td>...</td>\n",
       "      <td>...</td>\n",
       "      <td>...</td>\n",
       "      <td>...</td>\n",
       "      <td>...</td>\n",
       "      <td>...</td>\n",
       "      <td>...</td>\n",
       "      <td>...</td>\n",
       "    </tr>\n",
       "    <tr>\n",
       "      <th>9535</th>\n",
       "      <td>2023-09-12</td>\n",
       "      <td>93.58</td>\n",
       "      <td>9536</td>\n",
       "      <td>90935296</td>\n",
       "      <td>4.538817</td>\n",
       "      <td>0</td>\n",
       "      <td>0</td>\n",
       "      <td>0</td>\n",
       "      <td>0</td>\n",
       "      <td>0</td>\n",
       "      <td>...</td>\n",
       "      <td>0</td>\n",
       "      <td>0</td>\n",
       "      <td>0</td>\n",
       "      <td>0</td>\n",
       "      <td>0</td>\n",
       "      <td>0</td>\n",
       "      <td>1</td>\n",
       "      <td>0</td>\n",
       "      <td>0</td>\n",
       "      <td>0</td>\n",
       "    </tr>\n",
       "    <tr>\n",
       "      <th>9536</th>\n",
       "      <td>2023-09-13</td>\n",
       "      <td>93.04</td>\n",
       "      <td>9537</td>\n",
       "      <td>90954369</td>\n",
       "      <td>4.533030</td>\n",
       "      <td>0</td>\n",
       "      <td>0</td>\n",
       "      <td>0</td>\n",
       "      <td>0</td>\n",
       "      <td>0</td>\n",
       "      <td>...</td>\n",
       "      <td>0</td>\n",
       "      <td>0</td>\n",
       "      <td>0</td>\n",
       "      <td>0</td>\n",
       "      <td>0</td>\n",
       "      <td>0</td>\n",
       "      <td>1</td>\n",
       "      <td>0</td>\n",
       "      <td>0</td>\n",
       "      <td>0</td>\n",
       "    </tr>\n",
       "    <tr>\n",
       "      <th>9537</th>\n",
       "      <td>2023-09-14</td>\n",
       "      <td>95.20</td>\n",
       "      <td>9538</td>\n",
       "      <td>90973444</td>\n",
       "      <td>4.555980</td>\n",
       "      <td>0</td>\n",
       "      <td>0</td>\n",
       "      <td>0</td>\n",
       "      <td>0</td>\n",
       "      <td>0</td>\n",
       "      <td>...</td>\n",
       "      <td>0</td>\n",
       "      <td>0</td>\n",
       "      <td>0</td>\n",
       "      <td>0</td>\n",
       "      <td>0</td>\n",
       "      <td>0</td>\n",
       "      <td>1</td>\n",
       "      <td>0</td>\n",
       "      <td>0</td>\n",
       "      <td>0</td>\n",
       "    </tr>\n",
       "    <tr>\n",
       "      <th>9538</th>\n",
       "      <td>2023-09-15</td>\n",
       "      <td>95.55</td>\n",
       "      <td>9539</td>\n",
       "      <td>90992521</td>\n",
       "      <td>4.559650</td>\n",
       "      <td>0</td>\n",
       "      <td>0</td>\n",
       "      <td>0</td>\n",
       "      <td>0</td>\n",
       "      <td>0</td>\n",
       "      <td>...</td>\n",
       "      <td>0</td>\n",
       "      <td>0</td>\n",
       "      <td>0</td>\n",
       "      <td>0</td>\n",
       "      <td>0</td>\n",
       "      <td>0</td>\n",
       "      <td>1</td>\n",
       "      <td>0</td>\n",
       "      <td>0</td>\n",
       "      <td>0</td>\n",
       "    </tr>\n",
       "    <tr>\n",
       "      <th>9539</th>\n",
       "      <td>2023-09-18</td>\n",
       "      <td>95.95</td>\n",
       "      <td>9540</td>\n",
       "      <td>91011600</td>\n",
       "      <td>4.563827</td>\n",
       "      <td>0</td>\n",
       "      <td>0</td>\n",
       "      <td>0</td>\n",
       "      <td>0</td>\n",
       "      <td>0</td>\n",
       "      <td>...</td>\n",
       "      <td>0</td>\n",
       "      <td>0</td>\n",
       "      <td>0</td>\n",
       "      <td>0</td>\n",
       "      <td>0</td>\n",
       "      <td>0</td>\n",
       "      <td>1</td>\n",
       "      <td>0</td>\n",
       "      <td>0</td>\n",
       "      <td>0</td>\n",
       "    </tr>\n",
       "  </tbody>\n",
       "</table>\n",
       "<p>9540 rows × 29 columns</p>\n",
       "</div>"
      ],
      "text/plain": [
       "           Date  closing_value     t  t_square  log_closing_value  Month_1  \\\n",
       "0    1986-01-02          25.56     1         1           3.241029        1   \n",
       "1    1986-01-03          26.00     2         4           3.258097        1   \n",
       "2    1986-01-06          26.53     3         9           3.278276        1   \n",
       "3    1986-01-07          25.85     4        16           3.252311        1   \n",
       "4    1986-01-08          25.87     5        25           3.253084        1   \n",
       "...         ...            ...   ...       ...                ...      ...   \n",
       "9535 2023-09-12          93.58  9536  90935296           4.538817        0   \n",
       "9536 2023-09-13          93.04  9537  90954369           4.533030        0   \n",
       "9537 2023-09-14          95.20  9538  90973444           4.555980        0   \n",
       "9538 2023-09-15          95.55  9539  90992521           4.559650        0   \n",
       "9539 2023-09-18          95.95  9540  91011600           4.563827        0   \n",
       "\n",
       "      Month_2  Month_3  Month_4  Month_5  ...  Month_3  Month_4  Month_5  \\\n",
       "0           0        0        0        0  ...        0        0        0   \n",
       "1           0        0        0        0  ...        0        0        0   \n",
       "2           0        0        0        0  ...        0        0        0   \n",
       "3           0        0        0        0  ...        0        0        0   \n",
       "4           0        0        0        0  ...        0        0        0   \n",
       "...       ...      ...      ...      ...  ...      ...      ...      ...   \n",
       "9535        0        0        0        0  ...        0        0        0   \n",
       "9536        0        0        0        0  ...        0        0        0   \n",
       "9537        0        0        0        0  ...        0        0        0   \n",
       "9538        0        0        0        0  ...        0        0        0   \n",
       "9539        0        0        0        0  ...        0        0        0   \n",
       "\n",
       "      Month_6  Month_7  Month_8  Month_9  Month_10  Month_11  Month_12  \n",
       "0           0        0        0        0         0         0         0  \n",
       "1           0        0        0        0         0         0         0  \n",
       "2           0        0        0        0         0         0         0  \n",
       "3           0        0        0        0         0         0         0  \n",
       "4           0        0        0        0         0         0         0  \n",
       "...       ...      ...      ...      ...       ...       ...       ...  \n",
       "9535        0        0        0        1         0         0         0  \n",
       "9536        0        0        0        1         0         0         0  \n",
       "9537        0        0        0        1         0         0         0  \n",
       "9538        0        0        0        1         0         0         0  \n",
       "9539        0        0        0        1         0         0         0  \n",
       "\n",
       "[9540 rows x 29 columns]"
      ]
     },
     "execution_count": 70,
     "metadata": {},
     "output_type": "execute_result"
    }
   ],
   "source": [
    "df2 = pd.concat([df2,dummy_months],axis=1)\n",
    "df2"
   ]
  },
  {
   "cell_type": "code",
   "execution_count": 71,
   "id": "d6056048",
   "metadata": {},
   "outputs": [],
   "source": [
    "df2[\"year\"] = df2['Date'].dt.strftime(\"%Y\")"
   ]
  },
  {
   "cell_type": "code",
   "execution_count": 76,
   "id": "0d7f46af",
   "metadata": {},
   "outputs": [
    {
     "data": {
      "text/plain": [
       "<AxesSubplot:xlabel='year', ylabel='closing_value'>"
      ]
     },
     "execution_count": 76,
     "metadata": {},
     "output_type": "execute_result"
    },
    {
     "data": {
      "image/png": "[encoded data removed]",
      "text/plain": [
       "<Figure size 2000x1000 with 1 Axes>"
      ]
     },
     "metadata": {},
     "output_type": "display_data"
    }
   ],
   "source": [
    "plt.figure(figsize=(20,10))\n",
    "sns.lineplot(data=df2,x='year',y ='closing_value')"
   ]
  },
  {
   "cell_type": "code",
   "execution_count": 83,
   "id": "018f31fe",
   "metadata": {},
   "outputs": [],
   "source": [
    "df2.dropna(inplace=True)"
   ]
  },
  {
   "cell_type": "markdown",
   "id": "fe6cdce6",
   "metadata": {},
   "source": [
    "# Splitting Data"
   ]
  },
  {
   "cell_type": "code",
   "execution_count": 86,
   "id": "d36fc7bd",
   "metadata": {},
   "outputs": [],
   "source": [
    "train = df2.head(8000)\n",
    "test = df2.tail(1540)"
   ]
  },
  {
   "cell_type": "code",
   "execution_count": 88,
   "id": "5cf56f00",
   "metadata": {},
   "outputs": [
    {
     "data": {
      "text/html": [
       "<div>\n",
       "<style scoped>\n",
       "    .dataframe tbody tr th:only-of-type {\n",
       "        vertical-align: middle;\n",
       "    }\n",
       "\n",
       "    .dataframe tbody tr th {\n",
       "        vertical-align: top;\n",
       "    }\n",
       "\n",
       "    .dataframe thead th {\n",
       "        text-align: right;\n",
       "    }\n",
       "</style>\n",
       "<table border=\"1\" class=\"dataframe\">\n",
       "  <thead>\n",
       "    <tr style=\"text-align: right;\">\n",
       "      <th></th>\n",
       "      <th>Date</th>\n",
       "      <th>closing_value</th>\n",
       "      <th>t</th>\n",
       "      <th>t_square</th>\n",
       "      <th>log_closing_value</th>\n",
       "      <th>Month_1</th>\n",
       "      <th>Month_2</th>\n",
       "      <th>Month_3</th>\n",
       "      <th>Month_4</th>\n",
       "      <th>Month_5</th>\n",
       "      <th>...</th>\n",
       "      <th>Month_4</th>\n",
       "      <th>Month_5</th>\n",
       "      <th>Month_6</th>\n",
       "      <th>Month_7</th>\n",
       "      <th>Month_8</th>\n",
       "      <th>Month_9</th>\n",
       "      <th>Month_10</th>\n",
       "      <th>Month_11</th>\n",
       "      <th>Month_12</th>\n",
       "      <th>year</th>\n",
       "    </tr>\n",
       "  </thead>\n",
       "  <tbody>\n",
       "    <tr>\n",
       "      <th>0</th>\n",
       "      <td>1986-01-02</td>\n",
       "      <td>25.56</td>\n",
       "      <td>1</td>\n",
       "      <td>1</td>\n",
       "      <td>3.241029</td>\n",
       "      <td>1</td>\n",
       "      <td>0</td>\n",
       "      <td>0</td>\n",
       "      <td>0</td>\n",
       "      <td>0</td>\n",
       "      <td>...</td>\n",
       "      <td>0</td>\n",
       "      <td>0</td>\n",
       "      <td>0</td>\n",
       "      <td>0</td>\n",
       "      <td>0</td>\n",
       "      <td>0</td>\n",
       "      <td>0</td>\n",
       "      <td>0</td>\n",
       "      <td>0</td>\n",
       "      <td>1986</td>\n",
       "    </tr>\n",
       "    <tr>\n",
       "      <th>1</th>\n",
       "      <td>1986-01-03</td>\n",
       "      <td>26.00</td>\n",
       "      <td>2</td>\n",
       "      <td>4</td>\n",
       "      <td>3.258097</td>\n",
       "      <td>1</td>\n",
       "      <td>0</td>\n",
       "      <td>0</td>\n",
       "      <td>0</td>\n",
       "      <td>0</td>\n",
       "      <td>...</td>\n",
       "      <td>0</td>\n",
       "      <td>0</td>\n",
       "      <td>0</td>\n",
       "      <td>0</td>\n",
       "      <td>0</td>\n",
       "      <td>0</td>\n",
       "      <td>0</td>\n",
       "      <td>0</td>\n",
       "      <td>0</td>\n",
       "      <td>1986</td>\n",
       "    </tr>\n",
       "    <tr>\n",
       "      <th>2</th>\n",
       "      <td>1986-01-06</td>\n",
       "      <td>26.53</td>\n",
       "      <td>3</td>\n",
       "      <td>9</td>\n",
       "      <td>3.278276</td>\n",
       "      <td>1</td>\n",
       "      <td>0</td>\n",
       "      <td>0</td>\n",
       "      <td>0</td>\n",
       "      <td>0</td>\n",
       "      <td>...</td>\n",
       "      <td>0</td>\n",
       "      <td>0</td>\n",
       "      <td>0</td>\n",
       "      <td>0</td>\n",
       "      <td>0</td>\n",
       "      <td>0</td>\n",
       "      <td>0</td>\n",
       "      <td>0</td>\n",
       "      <td>0</td>\n",
       "      <td>1986</td>\n",
       "    </tr>\n",
       "    <tr>\n",
       "      <th>3</th>\n",
       "      <td>1986-01-07</td>\n",
       "      <td>25.85</td>\n",
       "      <td>4</td>\n",
       "      <td>16</td>\n",
       "      <td>3.252311</td>\n",
       "      <td>1</td>\n",
       "      <td>0</td>\n",
       "      <td>0</td>\n",
       "      <td>0</td>\n",
       "      <td>0</td>\n",
       "      <td>...</td>\n",
       "      <td>0</td>\n",
       "      <td>0</td>\n",
       "      <td>0</td>\n",
       "      <td>0</td>\n",
       "      <td>0</td>\n",
       "      <td>0</td>\n",
       "      <td>0</td>\n",
       "      <td>0</td>\n",
       "      <td>0</td>\n",
       "      <td>1986</td>\n",
       "    </tr>\n",
       "    <tr>\n",
       "      <th>4</th>\n",
       "      <td>1986-01-08</td>\n",
       "      <td>25.87</td>\n",
       "      <td>5</td>\n",
       "      <td>25</td>\n",
       "      <td>3.253084</td>\n",
       "      <td>1</td>\n",
       "      <td>0</td>\n",
       "      <td>0</td>\n",
       "      <td>0</td>\n",
       "      <td>0</td>\n",
       "      <td>...</td>\n",
       "      <td>0</td>\n",
       "      <td>0</td>\n",
       "      <td>0</td>\n",
       "      <td>0</td>\n",
       "      <td>0</td>\n",
       "      <td>0</td>\n",
       "      <td>0</td>\n",
       "      <td>0</td>\n",
       "      <td>0</td>\n",
       "      <td>1986</td>\n",
       "    </tr>\n",
       "    <tr>\n",
       "      <th>...</th>\n",
       "      <td>...</td>\n",
       "      <td>...</td>\n",
       "      <td>...</td>\n",
       "      <td>...</td>\n",
       "      <td>...</td>\n",
       "      <td>...</td>\n",
       "      <td>...</td>\n",
       "      <td>...</td>\n",
       "      <td>...</td>\n",
       "      <td>...</td>\n",
       "      <td>...</td>\n",
       "      <td>...</td>\n",
       "      <td>...</td>\n",
       "      <td>...</td>\n",
       "      <td>...</td>\n",
       "      <td>...</td>\n",
       "      <td>...</td>\n",
       "      <td>...</td>\n",
       "      <td>...</td>\n",
       "      <td>...</td>\n",
       "      <td>...</td>\n",
       "    </tr>\n",
       "    <tr>\n",
       "      <th>7995</th>\n",
       "      <td>2017-08-24</td>\n",
       "      <td>47.43</td>\n",
       "      <td>7996</td>\n",
       "      <td>63936016</td>\n",
       "      <td>3.859255</td>\n",
       "      <td>0</td>\n",
       "      <td>0</td>\n",
       "      <td>0</td>\n",
       "      <td>0</td>\n",
       "      <td>0</td>\n",
       "      <td>...</td>\n",
       "      <td>0</td>\n",
       "      <td>0</td>\n",
       "      <td>0</td>\n",
       "      <td>0</td>\n",
       "      <td>1</td>\n",
       "      <td>0</td>\n",
       "      <td>0</td>\n",
       "      <td>0</td>\n",
       "      <td>0</td>\n",
       "      <td>2017</td>\n",
       "    </tr>\n",
       "    <tr>\n",
       "      <th>7996</th>\n",
       "      <td>2017-08-25</td>\n",
       "      <td>47.87</td>\n",
       "      <td>7997</td>\n",
       "      <td>63952009</td>\n",
       "      <td>3.868489</td>\n",
       "      <td>0</td>\n",
       "      <td>0</td>\n",
       "      <td>0</td>\n",
       "      <td>0</td>\n",
       "      <td>0</td>\n",
       "      <td>...</td>\n",
       "      <td>0</td>\n",
       "      <td>0</td>\n",
       "      <td>0</td>\n",
       "      <td>0</td>\n",
       "      <td>1</td>\n",
       "      <td>0</td>\n",
       "      <td>0</td>\n",
       "      <td>0</td>\n",
       "      <td>0</td>\n",
       "      <td>2017</td>\n",
       "    </tr>\n",
       "    <tr>\n",
       "      <th>7997</th>\n",
       "      <td>2017-08-28</td>\n",
       "      <td>46.57</td>\n",
       "      <td>7998</td>\n",
       "      <td>63968004</td>\n",
       "      <td>3.840957</td>\n",
       "      <td>0</td>\n",
       "      <td>0</td>\n",
       "      <td>0</td>\n",
       "      <td>0</td>\n",
       "      <td>0</td>\n",
       "      <td>...</td>\n",
       "      <td>0</td>\n",
       "      <td>0</td>\n",
       "      <td>0</td>\n",
       "      <td>0</td>\n",
       "      <td>1</td>\n",
       "      <td>0</td>\n",
       "      <td>0</td>\n",
       "      <td>0</td>\n",
       "      <td>0</td>\n",
       "      <td>2017</td>\n",
       "    </tr>\n",
       "    <tr>\n",
       "      <th>7998</th>\n",
       "      <td>2017-08-29</td>\n",
       "      <td>46.44</td>\n",
       "      <td>7999</td>\n",
       "      <td>63984001</td>\n",
       "      <td>3.838161</td>\n",
       "      <td>0</td>\n",
       "      <td>0</td>\n",
       "      <td>0</td>\n",
       "      <td>0</td>\n",
       "      <td>0</td>\n",
       "      <td>...</td>\n",
       "      <td>0</td>\n",
       "      <td>0</td>\n",
       "      <td>0</td>\n",
       "      <td>0</td>\n",
       "      <td>1</td>\n",
       "      <td>0</td>\n",
       "      <td>0</td>\n",
       "      <td>0</td>\n",
       "      <td>0</td>\n",
       "      <td>2017</td>\n",
       "    </tr>\n",
       "    <tr>\n",
       "      <th>7999</th>\n",
       "      <td>2017-08-30</td>\n",
       "      <td>45.96</td>\n",
       "      <td>8000</td>\n",
       "      <td>64000000</td>\n",
       "      <td>3.827771</td>\n",
       "      <td>0</td>\n",
       "      <td>0</td>\n",
       "      <td>0</td>\n",
       "      <td>0</td>\n",
       "      <td>0</td>\n",
       "      <td>...</td>\n",
       "      <td>0</td>\n",
       "      <td>0</td>\n",
       "      <td>0</td>\n",
       "      <td>0</td>\n",
       "      <td>1</td>\n",
       "      <td>0</td>\n",
       "      <td>0</td>\n",
       "      <td>0</td>\n",
       "      <td>0</td>\n",
       "      <td>2017</td>\n",
       "    </tr>\n",
       "  </tbody>\n",
       "</table>\n",
       "<p>8000 rows × 30 columns</p>\n",
       "</div>"
      ],
      "text/plain": [
       "           Date  closing_value     t  t_square  log_closing_value  Month_1  \\\n",
       "0    1986-01-02          25.56     1         1           3.241029        1   \n",
       "1    1986-01-03          26.00     2         4           3.258097        1   \n",
       "2    1986-01-06          26.53     3         9           3.278276        1   \n",
       "3    1986-01-07          25.85     4        16           3.252311        1   \n",
       "4    1986-01-08          25.87     5        25           3.253084        1   \n",
       "...         ...            ...   ...       ...                ...      ...   \n",
       "7995 2017-08-24          47.43  7996  63936016           3.859255        0   \n",
       "7996 2017-08-25          47.87  7997  63952009           3.868489        0   \n",
       "7997 2017-08-28          46.57  7998  63968004           3.840957        0   \n",
       "7998 2017-08-29          46.44  7999  63984001           3.838161        0   \n",
       "7999 2017-08-30          45.96  8000  64000000           3.827771        0   \n",
       "\n",
       "      Month_2  Month_3  Month_4  Month_5  ...  Month_4  Month_5  Month_6  \\\n",
       "0           0        0        0        0  ...        0        0        0   \n",
       "1           0        0        0        0  ...        0        0        0   \n",
       "2           0        0        0        0  ...        0        0        0   \n",
       "3           0        0        0        0  ...        0        0        0   \n",
       "4           0        0        0        0  ...        0        0        0   \n",
       "...       ...      ...      ...      ...  ...      ...      ...      ...   \n",
       "7995        0        0        0        0  ...        0        0        0   \n",
       "7996        0        0        0        0  ...        0        0        0   \n",
       "7997        0        0        0        0  ...        0        0        0   \n",
       "7998        0        0        0        0  ...        0        0        0   \n",
       "7999        0        0        0        0  ...        0        0        0   \n",
       "\n",
       "      Month_7  Month_8  Month_9  Month_10  Month_11  Month_12  year  \n",
       "0           0        0        0         0         0         0  1986  \n",
       "1           0        0        0         0         0         0  1986  \n",
       "2           0        0        0         0         0         0  1986  \n",
       "3           0        0        0         0         0         0  1986  \n",
       "4           0        0        0         0         0         0  1986  \n",
       "...       ...      ...      ...       ...       ...       ...   ...  \n",
       "7995        0        1        0         0         0         0  2017  \n",
       "7996        0        1        0         0         0         0  2017  \n",
       "7997        0        1        0         0         0         0  2017  \n",
       "7998        0        1        0         0         0         0  2017  \n",
       "7999        0        1        0         0         0         0  2017  \n",
       "\n",
       "[8000 rows x 30 columns]"
      ]
     },
     "execution_count": 88,
     "metadata": {},
     "output_type": "execute_result"
    }
   ],
   "source": [
    "train"
   ]
  },
  {
   "cell_type": "code",
   "execution_count": 87,
   "id": "1aada662",
   "metadata": {},
   "outputs": [
    {
     "data": {
      "text/html": [
       "<div>\n",
       "<style scoped>\n",
       "    .dataframe tbody tr th:only-of-type {\n",
       "        vertical-align: middle;\n",
       "    }\n",
       "\n",
       "    .dataframe tbody tr th {\n",
       "        vertical-align: top;\n",
       "    }\n",
       "\n",
       "    .dataframe thead th {\n",
       "        text-align: right;\n",
       "    }\n",
       "</style>\n",
       "<table border=\"1\" class=\"dataframe\">\n",
       "  <thead>\n",
       "    <tr style=\"text-align: right;\">\n",
       "      <th></th>\n",
       "      <th>Date</th>\n",
       "      <th>closing_value</th>\n",
       "      <th>t</th>\n",
       "      <th>t_square</th>\n",
       "      <th>log_closing_value</th>\n",
       "      <th>Month_1</th>\n",
       "      <th>Month_2</th>\n",
       "      <th>Month_3</th>\n",
       "      <th>Month_4</th>\n",
       "      <th>Month_5</th>\n",
       "      <th>...</th>\n",
       "      <th>Month_4</th>\n",
       "      <th>Month_5</th>\n",
       "      <th>Month_6</th>\n",
       "      <th>Month_7</th>\n",
       "      <th>Month_8</th>\n",
       "      <th>Month_9</th>\n",
       "      <th>Month_10</th>\n",
       "      <th>Month_11</th>\n",
       "      <th>Month_12</th>\n",
       "      <th>year</th>\n",
       "    </tr>\n",
       "  </thead>\n",
       "  <tbody>\n",
       "    <tr>\n",
       "      <th>7994</th>\n",
       "      <td>2017-08-23</td>\n",
       "      <td>48.41</td>\n",
       "      <td>7995</td>\n",
       "      <td>63920025</td>\n",
       "      <td>3.879706</td>\n",
       "      <td>0</td>\n",
       "      <td>0</td>\n",
       "      <td>0</td>\n",
       "      <td>0</td>\n",
       "      <td>0</td>\n",
       "      <td>...</td>\n",
       "      <td>0</td>\n",
       "      <td>0</td>\n",
       "      <td>0</td>\n",
       "      <td>0</td>\n",
       "      <td>1</td>\n",
       "      <td>0</td>\n",
       "      <td>0</td>\n",
       "      <td>0</td>\n",
       "      <td>0</td>\n",
       "      <td>2017</td>\n",
       "    </tr>\n",
       "    <tr>\n",
       "      <th>7995</th>\n",
       "      <td>2017-08-24</td>\n",
       "      <td>47.43</td>\n",
       "      <td>7996</td>\n",
       "      <td>63936016</td>\n",
       "      <td>3.859255</td>\n",
       "      <td>0</td>\n",
       "      <td>0</td>\n",
       "      <td>0</td>\n",
       "      <td>0</td>\n",
       "      <td>0</td>\n",
       "      <td>...</td>\n",
       "      <td>0</td>\n",
       "      <td>0</td>\n",
       "      <td>0</td>\n",
       "      <td>0</td>\n",
       "      <td>1</td>\n",
       "      <td>0</td>\n",
       "      <td>0</td>\n",
       "      <td>0</td>\n",
       "      <td>0</td>\n",
       "      <td>2017</td>\n",
       "    </tr>\n",
       "    <tr>\n",
       "      <th>7996</th>\n",
       "      <td>2017-08-25</td>\n",
       "      <td>47.87</td>\n",
       "      <td>7997</td>\n",
       "      <td>63952009</td>\n",
       "      <td>3.868489</td>\n",
       "      <td>0</td>\n",
       "      <td>0</td>\n",
       "      <td>0</td>\n",
       "      <td>0</td>\n",
       "      <td>0</td>\n",
       "      <td>...</td>\n",
       "      <td>0</td>\n",
       "      <td>0</td>\n",
       "      <td>0</td>\n",
       "      <td>0</td>\n",
       "      <td>1</td>\n",
       "      <td>0</td>\n",
       "      <td>0</td>\n",
       "      <td>0</td>\n",
       "      <td>0</td>\n",
       "      <td>2017</td>\n",
       "    </tr>\n",
       "    <tr>\n",
       "      <th>7997</th>\n",
       "      <td>2017-08-28</td>\n",
       "      <td>46.57</td>\n",
       "      <td>7998</td>\n",
       "      <td>63968004</td>\n",
       "      <td>3.840957</td>\n",
       "      <td>0</td>\n",
       "      <td>0</td>\n",
       "      <td>0</td>\n",
       "      <td>0</td>\n",
       "      <td>0</td>\n",
       "      <td>...</td>\n",
       "      <td>0</td>\n",
       "      <td>0</td>\n",
       "      <td>0</td>\n",
       "      <td>0</td>\n",
       "      <td>1</td>\n",
       "      <td>0</td>\n",
       "      <td>0</td>\n",
       "      <td>0</td>\n",
       "      <td>0</td>\n",
       "      <td>2017</td>\n",
       "    </tr>\n",
       "    <tr>\n",
       "      <th>7998</th>\n",
       "      <td>2017-08-29</td>\n",
       "      <td>46.44</td>\n",
       "      <td>7999</td>\n",
       "      <td>63984001</td>\n",
       "      <td>3.838161</td>\n",
       "      <td>0</td>\n",
       "      <td>0</td>\n",
       "      <td>0</td>\n",
       "      <td>0</td>\n",
       "      <td>0</td>\n",
       "      <td>...</td>\n",
       "      <td>0</td>\n",
       "      <td>0</td>\n",
       "      <td>0</td>\n",
       "      <td>0</td>\n",
       "      <td>1</td>\n",
       "      <td>0</td>\n",
       "      <td>0</td>\n",
       "      <td>0</td>\n",
       "      <td>0</td>\n",
       "      <td>2017</td>\n",
       "    </tr>\n",
       "    <tr>\n",
       "      <th>...</th>\n",
       "      <td>...</td>\n",
       "      <td>...</td>\n",
       "      <td>...</td>\n",
       "      <td>...</td>\n",
       "      <td>...</td>\n",
       "      <td>...</td>\n",
       "      <td>...</td>\n",
       "      <td>...</td>\n",
       "      <td>...</td>\n",
       "      <td>...</td>\n",
       "      <td>...</td>\n",
       "      <td>...</td>\n",
       "      <td>...</td>\n",
       "      <td>...</td>\n",
       "      <td>...</td>\n",
       "      <td>...</td>\n",
       "      <td>...</td>\n",
       "      <td>...</td>\n",
       "      <td>...</td>\n",
       "      <td>...</td>\n",
       "      <td>...</td>\n",
       "    </tr>\n",
       "    <tr>\n",
       "      <th>9535</th>\n",
       "      <td>2023-09-12</td>\n",
       "      <td>93.58</td>\n",
       "      <td>9536</td>\n",
       "      <td>90935296</td>\n",
       "      <td>4.538817</td>\n",
       "      <td>0</td>\n",
       "      <td>0</td>\n",
       "      <td>0</td>\n",
       "      <td>0</td>\n",
       "      <td>0</td>\n",
       "      <td>...</td>\n",
       "      <td>0</td>\n",
       "      <td>0</td>\n",
       "      <td>0</td>\n",
       "      <td>0</td>\n",
       "      <td>0</td>\n",
       "      <td>1</td>\n",
       "      <td>0</td>\n",
       "      <td>0</td>\n",
       "      <td>0</td>\n",
       "      <td>2023</td>\n",
       "    </tr>\n",
       "    <tr>\n",
       "      <th>9536</th>\n",
       "      <td>2023-09-13</td>\n",
       "      <td>93.04</td>\n",
       "      <td>9537</td>\n",
       "      <td>90954369</td>\n",
       "      <td>4.533030</td>\n",
       "      <td>0</td>\n",
       "      <td>0</td>\n",
       "      <td>0</td>\n",
       "      <td>0</td>\n",
       "      <td>0</td>\n",
       "      <td>...</td>\n",
       "      <td>0</td>\n",
       "      <td>0</td>\n",
       "      <td>0</td>\n",
       "      <td>0</td>\n",
       "      <td>0</td>\n",
       "      <td>1</td>\n",
       "      <td>0</td>\n",
       "      <td>0</td>\n",
       "      <td>0</td>\n",
       "      <td>2023</td>\n",
       "    </tr>\n",
       "    <tr>\n",
       "      <th>9537</th>\n",
       "      <td>2023-09-14</td>\n",
       "      <td>95.20</td>\n",
       "      <td>9538</td>\n",
       "      <td>90973444</td>\n",
       "      <td>4.555980</td>\n",
       "      <td>0</td>\n",
       "      <td>0</td>\n",
       "      <td>0</td>\n",
       "      <td>0</td>\n",
       "      <td>0</td>\n",
       "      <td>...</td>\n",
       "      <td>0</td>\n",
       "      <td>0</td>\n",
       "      <td>0</td>\n",
       "      <td>0</td>\n",
       "      <td>0</td>\n",
       "      <td>1</td>\n",
       "      <td>0</td>\n",
       "      <td>0</td>\n",
       "      <td>0</td>\n",
       "      <td>2023</td>\n",
       "    </tr>\n",
       "    <tr>\n",
       "      <th>9538</th>\n",
       "      <td>2023-09-15</td>\n",
       "      <td>95.55</td>\n",
       "      <td>9539</td>\n",
       "      <td>90992521</td>\n",
       "      <td>4.559650</td>\n",
       "      <td>0</td>\n",
       "      <td>0</td>\n",
       "      <td>0</td>\n",
       "      <td>0</td>\n",
       "      <td>0</td>\n",
       "      <td>...</td>\n",
       "      <td>0</td>\n",
       "      <td>0</td>\n",
       "      <td>0</td>\n",
       "      <td>0</td>\n",
       "      <td>0</td>\n",
       "      <td>1</td>\n",
       "      <td>0</td>\n",
       "      <td>0</td>\n",
       "      <td>0</td>\n",
       "      <td>2023</td>\n",
       "    </tr>\n",
       "    <tr>\n",
       "      <th>9539</th>\n",
       "      <td>2023-09-18</td>\n",
       "      <td>95.95</td>\n",
       "      <td>9540</td>\n",
       "      <td>91011600</td>\n",
       "      <td>4.563827</td>\n",
       "      <td>0</td>\n",
       "      <td>0</td>\n",
       "      <td>0</td>\n",
       "      <td>0</td>\n",
       "      <td>0</td>\n",
       "      <td>...</td>\n",
       "      <td>0</td>\n",
       "      <td>0</td>\n",
       "      <td>0</td>\n",
       "      <td>0</td>\n",
       "      <td>0</td>\n",
       "      <td>1</td>\n",
       "      <td>0</td>\n",
       "      <td>0</td>\n",
       "      <td>0</td>\n",
       "      <td>2023</td>\n",
       "    </tr>\n",
       "  </tbody>\n",
       "</table>\n",
       "<p>1540 rows × 30 columns</p>\n",
       "</div>"
      ],
      "text/plain": [
       "           Date  closing_value     t  t_square  log_closing_value  Month_1  \\\n",
       "7994 2017-08-23          48.41  7995  63920025           3.879706        0   \n",
       "7995 2017-08-24          47.43  7996  63936016           3.859255        0   \n",
       "7996 2017-08-25          47.87  7997  63952009           3.868489        0   \n",
       "7997 2017-08-28          46.57  7998  63968004           3.840957        0   \n",
       "7998 2017-08-29          46.44  7999  63984001           3.838161        0   \n",
       "...         ...            ...   ...       ...                ...      ...   \n",
       "9535 2023-09-12          93.58  9536  90935296           4.538817        0   \n",
       "9536 2023-09-13          93.04  9537  90954369           4.533030        0   \n",
       "9537 2023-09-14          95.20  9538  90973444           4.555980        0   \n",
       "9538 2023-09-15          95.55  9539  90992521           4.559650        0   \n",
       "9539 2023-09-18          95.95  9540  91011600           4.563827        0   \n",
       "\n",
       "      Month_2  Month_3  Month_4  Month_5  ...  Month_4  Month_5  Month_6  \\\n",
       "7994        0        0        0        0  ...        0        0        0   \n",
       "7995        0        0        0        0  ...        0        0        0   \n",
       "7996        0        0        0        0  ...        0        0        0   \n",
       "7997        0        0        0        0  ...        0        0        0   \n",
       "7998        0        0        0        0  ...        0        0        0   \n",
       "...       ...      ...      ...      ...  ...      ...      ...      ...   \n",
       "9535        0        0        0        0  ...        0        0        0   \n",
       "9536        0        0        0        0  ...        0        0        0   \n",
       "9537        0        0        0        0  ...        0        0        0   \n",
       "9538        0        0        0        0  ...        0        0        0   \n",
       "9539        0        0        0        0  ...        0        0        0   \n",
       "\n",
       "      Month_7  Month_8  Month_9  Month_10  Month_11  Month_12  year  \n",
       "7994        0        1        0         0         0         0  2017  \n",
       "7995        0        1        0         0         0         0  2017  \n",
       "7996        0        1        0         0         0         0  2017  \n",
       "7997        0        1        0         0         0         0  2017  \n",
       "7998        0        1        0         0         0         0  2017  \n",
       "...       ...      ...      ...       ...       ...       ...   ...  \n",
       "9535        0        0        1         0         0         0  2023  \n",
       "9536        0        0        1         0         0         0  2023  \n",
       "9537        0        0        1         0         0         0  2023  \n",
       "9538        0        0        1         0         0         0  2023  \n",
       "9539        0        0        1         0         0         0  2023  \n",
       "\n",
       "[1540 rows x 30 columns]"
      ]
     },
     "execution_count": 87,
     "metadata": {},
     "output_type": "execute_result"
    }
   ],
   "source": [
    "test"
   ]
  },
  {
   "cell_type": "markdown",
   "id": "b4a3ebe5",
   "metadata": {},
   "source": [
    "# Model Building"
   ]
  },
  {
   "cell_type": "code",
   "execution_count": 89,
   "id": "f5ab488a",
   "metadata": {},
   "outputs": [
    {
     "data": {
      "text/plain": [
       "27.19901137109326"
      ]
     },
     "execution_count": 89,
     "metadata": {},
     "output_type": "execute_result"
    }
   ],
   "source": [
    "# linear equation\n",
    "import statsmodels.formula.api as smf\n",
    "\n",
    "linear_model = smf.ols('closing_value~t',data=train).fit()\n",
    "pred_linear = linear_model.predict(pd.DataFrame(test['t']))\n",
    "rmse_linear = np.sqrt(mean_squared_error(test['closing_value'],pred_linear))\n",
    "rmse_linear"
   ]
  },
  {
   "cell_type": "code",
   "execution_count": 100,
   "id": "b69dc621",
   "metadata": {},
   "outputs": [
    {
     "data": {
      "text/plain": [
       "0.564167085277553"
      ]
     },
     "execution_count": 100,
     "metadata": {},
     "output_type": "execute_result"
    }
   ],
   "source": [
    "# expoenetial\n",
    "exponential = smf.ols('log_closing_value~t',data=train).fit()\n",
    "pred_exp = exp.predict(pd.DataFrame(test['t']))\n",
    "rmse_exp = np.sqrt(mean_squared_error(test['log_closing_value'],pred_exp))\n",
    "rmse_exp"
   ]
  },
  {
   "cell_type": "code",
   "execution_count": 92,
   "id": "cb6ca86e",
   "metadata": {},
   "outputs": [
    {
     "data": {
      "text/plain": [
       "31.79501896535046"
      ]
     },
     "execution_count": 92,
     "metadata": {},
     "output_type": "execute_result"
    }
   ],
   "source": [
    "# Quadratic\n",
    "Quad = smf.ols('closing_value~t+t_square',data=train).fit()\n",
    "pred_quad = Quad.predict(pd.DataFrame(test[[\"t\",\"t_square\"]]))\n",
    "rmse_quad = np.sqrt(mean_squared_error(test['closing_value'],pred_quad))\n",
    "rmse_quad"
   ]
  },
  {
   "cell_type": "code",
   "execution_count": 93,
   "id": "ba893d18",
   "metadata": {},
   "outputs": [
    {
     "data": {
      "text/plain": [
       "33.39757573416221"
      ]
     },
     "execution_count": 93,
     "metadata": {},
     "output_type": "execute_result"
    }
   ],
   "source": [
    "# Additive seasonality\n",
    "Add_sea = smf.ols('closing_value~Month_1+Month_2+Month_3+Month_4+Month_5+Month_6+Month_7+Month_8+Month_9+Month_10+Month_11',data=train).fit()\n",
    "pred_add_sea = Add_sea.predict(pd.DataFrame(test[['Month_1','Month_2','Month_3','Month_4','Month_5','Month_6','Month_7','Month_8','Month_9','Month_10','Month_11']]))\n",
    "rmse_add_sea = np.sqrt(mean_squared_error(test['closing_value'],pred_add_sea))\n",
    "rmse_add_sea"
   ]
  },
  {
   "cell_type": "code",
   "execution_count": 95,
   "id": "2d4c6c3b",
   "metadata": {},
   "outputs": [
    {
     "data": {
      "text/plain": [
       "31.766191374177208"
      ]
     },
     "execution_count": 95,
     "metadata": {},
     "output_type": "execute_result"
    }
   ],
   "source": [
    "# Additive Seasonality Quadratic\n",
    "Add_sea_qu = smf.ols('closing_value~t+t_square+Month_1+Month_2+Month_3+Month_4+Month_5+Month_6+Month_7+Month_8+Month_9+Month_10+Month_11',data=train).fit()\n",
    "pred_add_sea_qu = Add_sea_qu.predict(pd.DataFrame(test[['t','t_square','Month_1','Month_2','Month_3','Month_4','Month_5','Month_6','Month_7','Month_8','Month_9','Month_10','Month_11']]))\n",
    "rmse_add_sea_qu = np.sqrt(mean_squared_error(test['closing_value'],pred_add_sea_qu))\n",
    "rmse_add_sea_qu"
   ]
  },
  {
   "cell_type": "code",
   "execution_count": 96,
   "id": "b5b72273",
   "metadata": {},
   "outputs": [
    {
     "data": {
      "text/plain": [
       "68.07282313363866"
      ]
     },
     "execution_count": 96,
     "metadata": {},
     "output_type": "execute_result"
    }
   ],
   "source": [
    "# Multiplicative Seasonality\n",
    "Mul_sea = smf.ols('log_closing_value~t++Month_1+Month_2+Month_3+Month_4+Month_5+Month_6+Month_7+Month_8+Month_9+Month_10+Month_11',data=train).fit()\n",
    "pred_Mul_sea = Mul_sea.predict(pd.DataFrame(test[['t','Month_1','Month_2','Month_3','Month_4','Month_5','Month_6','Month_7','Month_8','Month_9','Month_10','Month_11']]))\n",
    "rmse_Mul_sea = np.sqrt(mean_squared_error(test['closing_value'],pred_Mul_sea))\n",
    "rmse_Mul_sea"
   ]
  },
  {
   "cell_type": "code",
   "execution_count": 97,
   "id": "bf16d61b",
   "metadata": {},
   "outputs": [
    {
     "data": {
      "text/html": [
       "<div>\n",
       "<style scoped>\n",
       "    .dataframe tbody tr th:only-of-type {\n",
       "        vertical-align: middle;\n",
       "    }\n",
       "\n",
       "    .dataframe tbody tr th {\n",
       "        vertical-align: top;\n",
       "    }\n",
       "\n",
       "    .dataframe thead th {\n",
       "        text-align: right;\n",
       "    }\n",
       "</style>\n",
       "<table border=\"1\" class=\"dataframe\">\n",
       "  <thead>\n",
       "    <tr style=\"text-align: right;\">\n",
       "      <th></th>\n",
       "      <th>MODEL</th>\n",
       "      <th>RMSE_Values</th>\n",
       "    </tr>\n",
       "  </thead>\n",
       "  <tbody>\n",
       "    <tr>\n",
       "      <th>1</th>\n",
       "      <td>rmse_exp</td>\n",
       "      <td>0.564167</td>\n",
       "    </tr>\n",
       "    <tr>\n",
       "      <th>0</th>\n",
       "      <td>rmse_linear</td>\n",
       "      <td>27.199011</td>\n",
       "    </tr>\n",
       "    <tr>\n",
       "      <th>4</th>\n",
       "      <td>rmse_add_sea_qu</td>\n",
       "      <td>31.766191</td>\n",
       "    </tr>\n",
       "    <tr>\n",
       "      <th>2</th>\n",
       "      <td>rmse_quad</td>\n",
       "      <td>31.795019</td>\n",
       "    </tr>\n",
       "    <tr>\n",
       "      <th>3</th>\n",
       "      <td>rmse_add_sea</td>\n",
       "      <td>33.397576</td>\n",
       "    </tr>\n",
       "    <tr>\n",
       "      <th>5</th>\n",
       "      <td>rmse_Mul_sea</td>\n",
       "      <td>68.072823</td>\n",
       "    </tr>\n",
       "  </tbody>\n",
       "</table>\n",
       "</div>"
      ],
      "text/plain": [
       "             MODEL  RMSE_Values\n",
       "1         rmse_exp     0.564167\n",
       "0      rmse_linear    27.199011\n",
       "4  rmse_add_sea_qu    31.766191\n",
       "2        rmse_quad    31.795019\n",
       "3     rmse_add_sea    33.397576\n",
       "5     rmse_Mul_sea    68.072823"
      ]
     },
     "execution_count": 97,
     "metadata": {},
     "output_type": "execute_result"
    }
   ],
   "source": [
    "# Comparing the result\n",
    "data = {\"MODEL\":pd.Series([\"rmse_linear\",\"rmse_exp\",\"rmse_quad\",\"rmse_add_sea\",\"rmse_add_sea_qu\",\"rmse_Mul_sea\"]),\"RMSE_Values\":pd.Series([rmse_linear,rmse_exp,rmse_quad,rmse_add_sea,rmse_add_sea_qu,rmse_Mul_sea])}\n",
    "table_rmse=pd.DataFrame(data)\n",
    "table_rmse.sort_values(['RMSE_Values'])"
   ]
  },
  {
   "cell_type": "markdown",
   "id": "eb5bfbe9",
   "metadata": {},
   "source": [
    "- lowest RMSE value is in exponential model."
   ]
  },
  {
   "cell_type": "code",
   "execution_count": null,
   "id": "c1c0d2b4",
   "metadata": {},
   "outputs": [],
   "source": []
  },
  {
   "cell_type": "code",
   "execution_count": 99,
   "id": "dc63bab2",
   "metadata": {},
   "outputs": [],
   "source": [
    "import pickle"
   ]
  },
  {
   "cell_type": "code",
   "execution_count": 101,
   "id": "c3bd1f88",
   "metadata": {},
   "outputs": [],
   "source": [
    "with open('exponential_model.pkl', 'wb') as model_file:\n",
    "    pickle.dump(exponential, model_file)"
   ]
  },
  {
   "cell_type": "code",
   "execution_count": null,
   "id": "f1c64614",
   "metadata": {},
   "outputs": [],
   "source": []
  }
 ],
 "metadata": {
  "kernelspec": {
   "display_name": "Python 3 (ipykernel)",
   "language": "python",
   "name": "python3"
  },
  "language_info": {
   "codemirror_mode": {
    "name": "ipython",
    "version": 3
   },
   "file_extension": ".py",
   "mimetype": "text/x-python",
   "name": "python",
   "nbconvert_exporter": "python",
   "pygments_lexer": "ipython3",
   "version": "3.9.13"
  }
 },
 "nbformat": 4,
 "nbformat_minor": 5
}
